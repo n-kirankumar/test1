{
 "cells": [
  {
   "cell_type": "markdown",
   "id": "bbed00b5-fea8-4a22-a893-9940632b2b6a",
   "metadata": {},
   "source": [
    "### Json.dumps()\n",
    "    - 1. json.dumps\n",
    "        The json.dumps function converts a Python object into a JSON string."
   ]
  },
  {
   "cell_type": "code",
   "execution_count": 2,
   "id": "5949a81b-bced-4bdf-a636-2ac2f22d7666",
   "metadata": {},
   "outputs": [
    {
     "name": "stdout",
     "output_type": "stream",
     "text": [
      "{\"name\": \"kiran\", \"age\": 30, \"city\": \"Hyd\"}\n"
     ]
    }
   ],
   "source": [
    "import json\n",
    "\n",
    "data = {\"name\": \"kiran\", \"age\": 30, \"city\": \"Hyd\"}\n",
    "json_string = json.dumps(data)\n",
    "print(json_string) "
   ]
  },
  {
   "cell_type": "markdown",
   "id": "007b9d25-a2ca-4782-9764-72ba189b572a",
   "metadata": {},
   "source": [
    "- 1. string "
   ]
  },
  {
   "cell_type": "code",
   "execution_count": 4,
   "id": "2624adf4-d819-45ae-860d-c4188a03acb2",
   "metadata": {},
   "outputs": [
    {
     "name": "stdout",
     "output_type": "stream",
     "text": [
      "its example text \n",
      "<class 'str'>\n"
     ]
    }
   ],
   "source": [
    "import json\n",
    "\n",
    "json_string = '\"its example text \"'\n",
    "python_obj = json.loads(json_string)\n",
    "print(python_obj) \n",
    "print(type(python_obj))"
   ]
  },
  {
   "cell_type": "markdown",
   "id": "a3eee87a-69fc-47e8-a793-5be21cc9f539",
   "metadata": {},
   "source": [
    "- 2. number"
   ]
  },
  {
   "cell_type": "code",
   "execution_count": 6,
   "id": "57cc2634-be32-4798-be59-3b396f07f8ab",
   "metadata": {},
   "outputs": [
    {
     "name": "stdout",
     "output_type": "stream",
     "text": [
      "123\n",
      "<class 'int'>\n"
     ]
    }
   ],
   "source": [
    "json_integer = '123'\n",
    "python_obj = json.loads(json_integer)\n",
    "print(python_obj)\n",
    "print(type(python_obj))"
   ]
  },
  {
   "cell_type": "markdown",
   "id": "40286448-1fb8-457b-9237-fb21aef0589c",
   "metadata": {},
   "source": [
    "- 3. Boolean"
   ]
  },
  {
   "cell_type": "code",
   "execution_count": 7,
   "id": "cf0b76b0-364e-48af-853a-8dfe3b0fb8d5",
   "metadata": {},
   "outputs": [
    {
     "name": "stdout",
     "output_type": "stream",
     "text": [
      "False\n",
      "<class 'bool'>\n"
     ]
    }
   ],
   "source": [
    "json_false = 'false'\n",
    "python_obj = json.loads(json_false)\n",
    "print(python_obj)\n",
    "print(type(python_obj))"
   ]
  },
  {
   "cell_type": "markdown",
   "id": "22bdfa53-c3ca-4b4c-b76a-4bba5c9ba288",
   "metadata": {},
   "source": [
    "- 4. list"
   ]
  },
  {
   "cell_type": "code",
   "execution_count": 8,
   "id": "fde593fd-42ba-4994-8b3e-2a555e790953",
   "metadata": {},
   "outputs": [
    {
     "name": "stdout",
     "output_type": "stream",
     "text": [
      "[1, 2, 3, 'four', True, None]\n",
      "<class 'list'>\n"
     ]
    }
   ],
   "source": [
    "json_list = '[1, 2, 3, \"four\", true, null]'\n",
    "python_obj = json.loads(json_list)\n",
    "print(python_obj)  \n",
    "print(type(python_obj))"
   ]
  },
  {
   "cell_type": "markdown",
   "id": "9a1f499f-13ac-4417-ba8f-e67a2be74bc7",
   "metadata": {},
   "source": [
    "- 5. dict"
   ]
  },
  {
   "cell_type": "code",
   "execution_count": 18,
   "id": "29533658-0d01-4e8f-aeaa-eaed4b013906",
   "metadata": {},
   "outputs": [
    {
     "name": "stdout",
     "output_type": "stream",
     "text": [
      "{'name': 'tata', 'age': 30, 'is_student': False}\n",
      "<class 'dict'>\n"
     ]
    }
   ],
   "source": [
    "json_dict = '{\"name\": \"tata\", \"age\": 30, \"is_student\": false}'\n",
    "python_obj = json.loads(json_dict)\n",
    "print(python_obj) \n",
    "print(type(python_obj))"
   ]
  },
  {
   "cell_type": "markdown",
   "id": "82708f9a-a93b-458a-8152-15ca9d458ff7",
   "metadata": {},
   "source": [
    "- 6. netsed list"
   ]
  },
  {
   "cell_type": "code",
   "execution_count": 10,
   "id": "5284c971-2193-404d-a355-32704febac47",
   "metadata": {},
   "outputs": [
    {
     "name": "stdout",
     "output_type": "stream",
     "text": [
      "[[1, 2], [3, 4], [5, [6, 7]]]\n",
      "<class 'list'>\n"
     ]
    }
   ],
   "source": [
    "json_nested_list = '[[1, 2], [3, 4], [5, [6, 7]]]'\n",
    "python_obj = json.loads(json_nested_list)\n",
    "print(python_obj) \n",
    "print(type(python_obj))"
   ]
  },
  {
   "cell_type": "code",
   "execution_count": null,
   "id": "4028c238-950e-4c93-990b-5cac8696ed83",
   "metadata": {},
   "outputs": [],
   "source": [
    "\n",
    "\n"
   ]
  },
  {
   "cell_type": "markdown",
   "id": "2e3cbb3b-f06d-45f9-85dc-fdce2c0ee463",
   "metadata": {},
   "source": [
    "json.dumps()"
   ]
  },
  {
   "cell_type": "code",
   "execution_count": 13,
   "id": "7a17aa2d-cbf8-4026-82b2-baf677d18c32",
   "metadata": {},
   "outputs": [
    {
     "name": "stdout",
     "output_type": "stream",
     "text": [
      "\"testing\"\n",
      "<class 'str'>\n"
     ]
    }
   ],
   "source": [
    "python_string = \"testing\"\n",
    "json_string = json.dumps(python_string)\n",
    "print(json_string) \n",
    "print(type(json_string))"
   ]
  },
  {
   "cell_type": "code",
   "execution_count": 14,
   "id": "de49d577-0daa-43a4-a5b5-4c90282dac01",
   "metadata": {},
   "outputs": [
    {
     "name": "stdout",
     "output_type": "stream",
     "text": [
      "123\n",
      "<class 'str'>\n"
     ]
    }
   ],
   "source": [
    "python_integer = 123\n",
    "json_string = json.dumps(python_integer)\n",
    "print(json_string) \n",
    "print(type(json_string))"
   ]
  },
  {
   "cell_type": "code",
   "execution_count": 15,
   "id": "6d5e38e2-a1b1-44a6-a293-90bf6688d379",
   "metadata": {},
   "outputs": [
    {
     "name": "stdout",
     "output_type": "stream",
     "text": [
      "true\n",
      "<class 'str'>\n"
     ]
    }
   ],
   "source": [
    "python_true = True\n",
    "json_string = json.dumps(python_true)\n",
    "print(json_string)\n",
    "print(type(json_string))"
   ]
  },
  {
   "cell_type": "code",
   "execution_count": 16,
   "id": "196ad4d1-fd86-4030-83e4-a806e039ce64",
   "metadata": {},
   "outputs": [
    {
     "name": "stdout",
     "output_type": "stream",
     "text": [
      "[1, 2, 3, \"four\", true, null]\n",
      "<class 'str'>\n"
     ]
    }
   ],
   "source": [
    "python_list = [1, 2, 3, \"four\", True, None]\n",
    "json_string = json.dumps(python_list)\n",
    "print(json_string) \n",
    "print(type(json_string))"
   ]
  },
  {
   "cell_type": "code",
   "execution_count": 17,
   "id": "6d3d44d1-2f35-4a2a-a9bc-f8d66425d203",
   "metadata": {},
   "outputs": [
    {
     "name": "stdout",
     "output_type": "stream",
     "text": [
      "{\"name\": \"kiran\", \"age\": 27, \"is_student\": false}\n",
      "<class 'str'>\n"
     ]
    }
   ],
   "source": [
    "python_dict = {\"name\": \"kiran\", \"age\": 27, \"is_student\": False}\n",
    "json_string = json.dumps(python_dict)\n",
    "print(json_string)\n",
    "print(type(json_string))"
   ]
  },
  {
   "cell_type": "code",
   "execution_count": null,
   "id": "ebe95855-4a3f-4f15-8efe-469ffe178fa9",
   "metadata": {},
   "outputs": [],
   "source": []
  }
 ],
 "metadata": {
  "kernelspec": {
   "display_name": "Python 3 (ipykernel)",
   "language": "python",
   "name": "python3"
  },
  "language_info": {
   "codemirror_mode": {
    "name": "ipython",
    "version": 3
   },
   "file_extension": ".py",
   "mimetype": "text/x-python",
   "name": "python",
   "nbconvert_exporter": "python",
   "pygments_lexer": "ipython3",
   "version": "3.11.7"
  }
 },
 "nbformat": 4,
 "nbformat_minor": 5
}
