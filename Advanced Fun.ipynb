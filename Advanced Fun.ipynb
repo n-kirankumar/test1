{
 "cells": [
  {
   "cell_type": "code",
   "execution_count": 2,
   "id": "6f00f531-40ea-44e6-884f-c9cef30d5b2b",
   "metadata": {},
   "outputs": [
    {
     "name": "stdout",
     "output_type": "stream",
     "text": [
      "Positional arguments: (1, 2, 3)\n",
      "Keyword arguments: {'a': 4, 'b': 5}\n"
     ]
    }
   ],
   "source": [
    "def func(*args, **kwargs):\n",
    "    print(\"Positional arguments:\", args)\n",
    "    print(\"Keyword arguments:\", kwargs)\n",
    "\n",
    "func(1, 2, 3, a=4, b=5)"
   ]
  },
  {
   "cell_type": "code",
   "execution_count": 2,
   "id": "7543426e-1520-4ef2-92df-bfb3ca208aa3",
   "metadata": {},
   "outputs": [
    {
     "name": "stdout",
     "output_type": "stream",
     "text": [
      "Something is happening before the function is called.\n",
      "Hello kiran\n",
      "Something is happening after the function is called.\n"
     ]
    }
   ],
   "source": [
    "def my_decorator(func):\n",
    "    def wrapper():\n",
    "        print(\"Something is happening before the function is called.\")\n",
    "        func()\n",
    "        print(\"Something is happening after the function is called.\")\n",
    "    return wrapper\n",
    "\n",
    "@my_decorator\n",
    "def say_hello():\n",
    "    print(\"Hello kiran\")\n",
    "\n",
    "say_hello()\n"
   ]
  },
  {
   "cell_type": "code",
   "execution_count": 5,
   "id": "761a9d19-a884-432a-9dc4-cff8f9471252",
   "metadata": {},
   "outputs": [
    {
     "data": {
      "text/plain": [
       "5"
      ]
     },
     "execution_count": 5,
     "metadata": {},
     "output_type": "execute_result"
    }
   ],
   "source": [
    "## lambda function\n",
    "\n",
    "add = lambda x,y : x+y\n",
    "\n",
    "add (2,3)"
   ]
  },
  {
   "cell_type": "code",
   "execution_count": 6,
   "id": "3eac21ee-5f7d-44e4-9b37-c6e3bfa27a48",
   "metadata": {},
   "outputs": [
    {
     "name": "stdout",
     "output_type": "stream",
     "text": [
      "Hi\n"
     ]
    }
   ],
   "source": [
    "def outer_func(msg):\n",
    "    def inner_func():\n",
    "        print(msg)\n",
    "    return inner_func\n",
    "\n",
    "hi_func = outer_func(\"Hi\")\n",
    "hi_func() \n"
   ]
  },
  {
   "cell_type": "code",
   "execution_count": 7,
   "id": "f18a82de-a8d2-4ef5-84f7-a5d3adf414b9",
   "metadata": {},
   "outputs": [
    {
     "name": "stdout",
     "output_type": "stream",
     "text": [
      "[1, 4, 9, 16]\n",
      "[2, 4]\n",
      "10\n"
     ]
    }
   ],
   "source": [
    "## map filter reduce in one go\n",
    "\n",
    "from functools import reduce\n",
    "\n",
    "\n",
    "squared = map(lambda x: x**2, [1, 2, 3, 4])\n",
    "print(list(squared))  \n",
    "\n",
    "even = filter(lambda x: x % 2 == 0, [1, 2, 3, 4])\n",
    "print(list(even)) \n",
    "\n",
    "\n",
    "sum = reduce(lambda x, y: x + y, [1, 2, 3, 4])\n",
    "print(sum)  \n"
   ]
  },
  {
   "cell_type": "code",
   "execution_count": 8,
   "id": "8a92c374-2c55-4f1a-b09b-b40caf6060c0",
   "metadata": {},
   "outputs": [
    {
     "name": "stdout",
     "output_type": "stream",
     "text": [
      "[0, 1, 4, 9, 16, 25, 36, 49, 64, 81]\n",
      "{0: 0, 1: 1, 2: 4, 3: 9, 4: 16, 5: 25, 6: 36, 7: 49, 8: 64, 9: 81}\n",
      "{0, 1, 64, 4, 36, 9, 16, 49, 81, 25}\n"
     ]
    }
   ],
   "source": [
    "squares = [x**2 for x in range(10)]\n",
    "print(squares)\n",
    "\n",
    "\n",
    "squares_dict = {x: x**2 for x in range(10)}\n",
    "print(squares_dict) \n",
    "\n",
    "\n",
    "squares_set = {x**2 for x in range(10)}\n",
    "print(squares_set) \n"
   ]
  },
  {
   "cell_type": "code",
   "execution_count": null,
   "id": "5fc317a7-fdf4-49f9-91fb-d2606fe6c5c4",
   "metadata": {},
   "outputs": [],
   "source": []
  }
 ],
 "metadata": {
  "kernelspec": {
   "display_name": "Python 3 (ipykernel)",
   "language": "python",
   "name": "python3"
  },
  "language_info": {
   "codemirror_mode": {
    "name": "ipython",
    "version": 3
   },
   "file_extension": ".py",
   "mimetype": "text/x-python",
   "name": "python",
   "nbconvert_exporter": "python",
   "pygments_lexer": "ipython3",
   "version": "3.11.7"
  }
 },
 "nbformat": 4,
 "nbformat_minor": 5
}
