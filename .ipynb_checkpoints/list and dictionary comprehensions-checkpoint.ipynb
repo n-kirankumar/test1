{
 "cells": [
  {
   "cell_type": "code",
   "execution_count": 1,
   "id": "61b3cd8e-698a-4bca-9bbf-2b9100813a75",
   "metadata": {},
   "outputs": [
    {
     "name": "stdout",
     "output_type": "stream",
     "text": [
      "[0, 1, 4, 9, 16, 25, 36, 49, 64, 81]\n"
     ]
    }
   ],
   "source": [
    "squares = [x**2 for x in range(10)]\n",
    "print(squares)"
   ]
  },
  {
   "cell_type": "code",
   "execution_count": 2,
   "id": "e4d3c8a6-27f1-46c2-9c31-e59687941e63",
   "metadata": {},
   "outputs": [
    {
     "name": "stdout",
     "output_type": "stream",
     "text": [
      "[0, 2, 4, 6, 8]\n"
     ]
    }
   ],
   "source": [
    "evens = [x for x in range(10) if x % 2 == 0]\n",
    "print(evens)"
   ]
  },
  {
   "cell_type": "code",
   "execution_count": 3,
   "id": "4013061a-30da-4b84-b7fc-533619391962",
   "metadata": {},
   "outputs": [
    {
     "name": "stdout",
     "output_type": "stream",
     "text": [
      "[1, 4, 9, 16]\n"
     ]
    }
   ],
   "source": [
    "# Applying a function to each element in a list\n",
    "\n",
    "def square(x):\n",
    "    return x * x\n",
    "\n",
    "numbers = [1, 2, 3, 4]\n",
    "squares = [square(x) for x in numbers]\n",
    "print(squares)\n"
   ]
  },
  {
   "cell_type": "code",
   "execution_count": 4,
   "id": "c548adec-cf85-481c-a312-2e5243d0eb91",
   "metadata": {},
   "outputs": [
    {
     "name": "stdout",
     "output_type": "stream",
     "text": [
      "[(0, 0), (0, 1), (0, 2), (1, 0), (1, 1), (1, 2), (2, 0), (2, 1), (2, 2)]\n"
     ]
    }
   ],
   "source": [
    "\n",
    "tuples = [(i, j) for i in range(3) for j in range(3)]\n",
    "print(tuples) "
   ]
  },
  {
   "cell_type": "code",
   "execution_count": 5,
   "id": "8422550c-5cd9-4a25-88b7-d4f7340d4976",
   "metadata": {},
   "outputs": [
    {
     "name": "stdout",
     "output_type": "stream",
     "text": [
      "['even', 'odd', 'even', 'odd', 'even', 'odd', 'even', 'odd', 'even', 'odd']\n"
     ]
    }
   ],
   "source": [
    "# Creating a list of \"even\" or \"odd\" based on the value of x\n",
    "labels = [\"even\" if x % 2 == 0 else \"odd\" for x in range(10)]\n",
    "print(labels)  \n"
   ]
  },
  {
   "cell_type": "markdown",
   "id": "d87aec60-cf05-41c3-b311-2223bacca190",
   "metadata": {},
   "source": [
    "===============================================================\n",
    "\n",
    "========="
   ]
  },
  {
   "cell_type": "code",
   "execution_count": 7,
   "id": "c8a14cc1-2025-4f16-bdad-bb22451b9856",
   "metadata": {},
   "outputs": [
    {
     "name": "stdout",
     "output_type": "stream",
     "text": [
      "{0: 0, 1: 1, 2: 4, 3: 9, 4: 16}\n"
     ]
    }
   ],
   "source": [
    "square_dict = {x: x**2 for x in range(5)}\n",
    "print(square_dict)  "
   ]
  },
  {
   "cell_type": "code",
   "execution_count": null,
   "id": "513f859f-ddbd-4123-ae79-a5435055c9dd",
   "metadata": {},
   "outputs": [],
   "source": []
  }
 ],
 "metadata": {
  "kernelspec": {
   "display_name": "Python 3 (ipykernel)",
   "language": "python",
   "name": "python3"
  },
  "language_info": {
   "codemirror_mode": {
    "name": "ipython",
    "version": 3
   },
   "file_extension": ".py",
   "mimetype": "text/x-python",
   "name": "python",
   "nbconvert_exporter": "python",
   "pygments_lexer": "ipython3",
   "version": "3.11.7"
  }
 },
 "nbformat": 4,
 "nbformat_minor": 5
}
