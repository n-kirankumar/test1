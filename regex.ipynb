{
 "cells": [
  {
   "cell_type": "markdown",
   "id": "06beac33-cf97-4a2b-b908-2b102f2f3313",
   "metadata": {},
   "source": [
    "- re.match(): Checks for a match only at the beginning of the string.\n",
    "- re.search(): Searches for a match anywhere in the string.\n",
    "- re.findall(): Returns a list of all matches.\n",
    "- re.sub(): Replaces one or many matches with a string."
   ]
  },
  {
   "cell_type": "markdown",
   "id": "9edde6ab-2114-4b34-b9ac-c2a6cb5e242a",
   "metadata": {},
   "source": [
    "- *: Matches 0 or more repetitions.\n",
    "- +: Matches 1 or more repetitions.\n",
    "- ?: Matches 0 or 1 repetition.\n",
    "- {n}: Matches exactly n repetitions.\n",
    "- {n,}: Matches n or more repetitions.\n",
    "- {n,m}: Matches between n and m repetitions."
   ]
  },
  {
   "cell_type": "markdown",
   "id": "ba286536-3a6e-4706-a6db-21aa9ed7f3e6",
   "metadata": {},
   "source": [
    "- re.match(pattern, text)"
   ]
  },
  {
   "cell_type": "code",
   "execution_count": 2,
   "id": "13a88e90-c06e-4825-8448-20f72e8f3021",
   "metadata": {},
   "outputs": [
    {
     "name": "stdout",
     "output_type": "stream",
     "text": [
      "True\n"
     ]
    }
   ],
   "source": [
    "import re\n",
    "\n",
    "match = re.match(r'^Hello', 'Hello, kiran')\n",
    "print(bool(match))"
   ]
  },
  {
   "cell_type": "code",
   "execution_count": 3,
   "id": "e1d7ff18-96a5-440c-a139-5fe662c51f8b",
   "metadata": {},
   "outputs": [
    {
     "name": "stdout",
     "output_type": "stream",
     "text": [
      "True\n"
     ]
    }
   ],
   "source": [
    "match = re.search(r'world', text)\n",
    "print(bool(match)) "
   ]
  },
  {
   "cell_type": "code",
   "execution_count": 4,
   "id": "832e6214-5e42-4536-b988-5988da8ccfcc",
   "metadata": {},
   "outputs": [
    {
     "name": "stdout",
     "output_type": "stream",
     "text": [
      "['123', '456']\n"
     ]
    }
   ],
   "source": [
    "matches = re.findall(r'\\d+', 'My numbers are 123 and 456.')\n",
    "print(matches)"
   ]
  },
  {
   "cell_type": "code",
   "execution_count": 5,
   "id": "91ef5fd3-95e1-44c8-ad42-e8910bbe00a2",
   "metadata": {},
   "outputs": [
    {
     "name": "stdout",
     "output_type": "stream",
     "text": [
      "Hello, world!\n"
     ]
    }
   ],
   "source": [
    "pattern = r'\\d+'\n",
    "replacement = '#'\n",
    "result = re.sub(pattern, replacement, text)\n",
    "print(result) \n"
   ]
  },
  {
   "cell_type": "code",
   "execution_count": 6,
   "id": "6d69da11-3250-4ead-a7a1-c0d4da9b053f",
   "metadata": {},
   "outputs": [
    {
     "name": "stdout",
     "output_type": "stream",
     "text": [
      "True\n"
     ]
    }
   ],
   "source": [
    "pattern = r'^[a-zA-Z0-9._%+-]+@[a-zA-Z0-9.-]+\\.[a-zA-Z]{2,}$'\n",
    "text = 'example@example.com'\n",
    "match = re.match(pattern, text)\n",
    "print(bool(match)) "
   ]
  },
  {
   "cell_type": "code",
   "execution_count": null,
   "id": "2e10a9b0-f087-43e7-8bf5-80cc267a2265",
   "metadata": {},
   "outputs": [],
   "source": []
  }
 ],
 "metadata": {
  "kernelspec": {
   "display_name": "Python 3 (ipykernel)",
   "language": "python",
   "name": "python3"
  },
  "language_info": {
   "codemirror_mode": {
    "name": "ipython",
    "version": 3
   },
   "file_extension": ".py",
   "mimetype": "text/x-python",
   "name": "python",
   "nbconvert_exporter": "python",
   "pygments_lexer": "ipython3",
   "version": "3.11.7"
  }
 },
 "nbformat": 4,
 "nbformat_minor": 5
}
