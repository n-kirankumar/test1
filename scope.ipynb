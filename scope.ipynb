{
 "cells": [
  {
   "cell_type": "markdown",
   "id": "c2fc7dca-f6c3-4a28-bb59-9ab68460377c",
   "metadata": {},
   "source": [
    "scope\n",
    "L E G B"
   ]
  },
  {
   "cell_type": "code",
   "execution_count": 5,
   "id": "6c1ce5b8-d496-475c-bda9-82dbfbfb9d12",
   "metadata": {},
   "outputs": [
    {
     "name": "stdout",
     "output_type": "stream",
     "text": [
      "10\n",
      "5\n",
      "10\n"
     ]
    }
   ],
   "source": [
    "x = 10\n",
    "def my_fun():\n",
    "    y = 5          ### local\n",
    "    print(x)       ## Global\n",
    "    print(y)\n",
    "\n",
    "my_fun()\n",
    "print(x)           ### Global"
   ]
  },
  {
   "cell_type": "code",
   "execution_count": 7,
   "id": "16daef50-29db-47fe-8cdb-593a949813b0",
   "metadata": {},
   "outputs": [
    {
     "name": "stdout",
     "output_type": "stream",
     "text": [
      "20\n"
     ]
    }
   ],
   "source": [
    "# we can modify variables \n",
    "\n",
    "x = 10 \n",
    "def modify_global():\n",
    "    global x\n",
    "    x = 20\n",
    "\n",
    "modify_global()\n",
    "print(x)"
   ]
  },
  {
   "cell_type": "code",
   "execution_count": 9,
   "id": "da4f9d66-7cbb-40d6-8a2c-c87ff3d99c1a",
   "metadata": {},
   "outputs": [
    {
     "name": "stdout",
     "output_type": "stream",
     "text": [
      "500\n"
     ]
    }
   ],
   "source": [
    "x = 300\n",
    "def f1():\n",
    "    global x\n",
    "    x = 500\n",
    "\n",
    "f1()\n",
    "print(x)"
   ]
  },
  {
   "cell_type": "code",
   "execution_count": 10,
   "id": "085b1766-928e-49a1-8713-5039b83e4659",
   "metadata": {},
   "outputs": [
    {
     "name": "stdout",
     "output_type": "stream",
     "text": [
      "inner x\n",
      "outer x\n"
     ]
    }
   ],
   "source": [
    "def outer_function():\n",
    "    x = 'outer x'\n",
    "    \n",
    "    def inner_function():\n",
    "        x = 'inner x'\n",
    "        print(x)\n",
    "        \n",
    "    inner_function()\n",
    "    print(x)  \n",
    "\n",
    "outer_function()\n"
   ]
  },
  {
   "cell_type": "code",
   "execution_count": 11,
   "id": "cec24ee9-c073-4a1f-bf52-8a37d89a2002",
   "metadata": {},
   "outputs": [],
   "source": [
    "## Enclosing \n",
    "\n"
   ]
  },
  {
   "cell_type": "code",
   "execution_count": 12,
   "id": "ebef5eec-1cd3-4a29-a658-9c8a304598ee",
   "metadata": {},
   "outputs": [
    {
     "name": "stdout",
     "output_type": "stream",
     "text": [
      "outer x\n",
      "outer x\n"
     ]
    }
   ],
   "source": [
    "def outer_function():\n",
    "    x = 'outer x'\n",
    "    \n",
    "    def inner_function():\n",
    "        print(x) \n",
    "\n",
    "    inner_function()\n",
    "    print(x) \n",
    "    \n",
    "outer_function()"
   ]
  },
  {
   "cell_type": "code",
   "execution_count": 13,
   "id": "0083324d-7903-4c6f-9756-a93246ebf059",
   "metadata": {},
   "outputs": [
    {
     "name": "stdout",
     "output_type": "stream",
     "text": [
      "3\n"
     ]
    }
   ],
   "source": [
    "## Builtin\n",
    "\n",
    "def outer_function():\n",
    "    x = len  \n",
    "    print(x([1, 2, 3]))  \n",
    "\n",
    "outer_function()\n"
   ]
  },
  {
   "cell_type": "code",
   "execution_count": 14,
   "id": "cd1d6b74-1330-4674-9af6-ac798cc45f31",
   "metadata": {},
   "outputs": [
    {
     "name": "stdout",
     "output_type": "stream",
     "text": [
      "inner x\n",
      "<built-in function len>\n",
      "outer x\n",
      "global x\n"
     ]
    }
   ],
   "source": [
    "x = 'global x'\n",
    "\n",
    "def outer_function():\n",
    "    x = 'outer x'\n",
    "    \n",
    "    def inner_function():\n",
    "        x = 'inner x'\n",
    "        print(x)     # Local \n",
    "        print(len)  # Built-in \n",
    "    \n",
    "    inner_function()\n",
    "    print(x)   # Local \n",
    "\n",
    "outer_function()\n",
    "print(x)    # Global \n"
   ]
  },
  {
   "cell_type": "code",
   "execution_count": 1,
   "id": "89ccd2d1-f51d-4ac2-83bd-3de13679d974",
   "metadata": {},
   "outputs": [
    {
     "name": "stdout",
     "output_type": "stream",
     "text": [
      "inner\n",
      "middle\n",
      "outer\n"
     ]
    }
   ],
   "source": [
    "def outer_function():\n",
    "    outer_var = 'outer'\n",
    "\n",
    "    def middle_function():\n",
    "        middle_var = 'middle'\n",
    "\n",
    "        def inner_function():\n",
    "            inner_var = 'inner'\n",
    "            print(inner_var)    # Local\n",
    "            print(middle_var)  # Enclosing \n",
    "            print(outer_var)  # Enclosing         \n",
    "        inner_function()\n",
    "    \n",
    "    middle_function()\n",
    "\n",
    "outer_function()\n"
   ]
  },
  {
   "cell_type": "code",
   "execution_count": null,
   "id": "4cf9c77c-c726-45f0-a6bd-0c1957efbc50",
   "metadata": {},
   "outputs": [],
   "source": []
  }
 ],
 "metadata": {
  "kernelspec": {
   "display_name": "Python 3 (ipykernel)",
   "language": "python",
   "name": "python3"
  },
  "language_info": {
   "codemirror_mode": {
    "name": "ipython",
    "version": 3
   },
   "file_extension": ".py",
   "mimetype": "text/x-python",
   "name": "python",
   "nbconvert_exporter": "python",
   "pygments_lexer": "ipython3",
   "version": "3.11.7"
  }
 },
 "nbformat": 4,
 "nbformat_minor": 5
}
